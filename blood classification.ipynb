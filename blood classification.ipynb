{
 "cells": [
  {
   "cell_type": "markdown",
   "id": "1f4e7535-5c4d-4499-b204-e8f58d94bb18",
   "metadata": {},
   "source": [
    "# EDA Various classification and Esemble Method\n",
    "## About the dataset\n",
    "###  We will apply various classification algorithms and try to observe which one gives the best accuracy."
   ]
  },
  {
   "cell_type": "code",
   "execution_count": 1,
   "id": "1caedc98-a41b-4044-a622-7274234c301e",
   "metadata": {},
   "outputs": [],
   "source": [
    "#importing a libraryes\n",
    "import numpy as np\n",
    "import pandas as pd\n",
    "import matplotlib.pyplot as plt\n",
    "import seaborn as sns"
   ]
  },
  {
   "cell_type": "markdown",
   "id": "2db2c2d6-caaf-482c-8821-e64606b13b57",
   "metadata": {},
   "source": [
    "### Importing a datset"
   ]
  },
  {
   "cell_type": "code",
   "execution_count": 2,
   "id": "90440615-7ef5-45a2-b298-ae5ce768f1f7",
   "metadata": {},
   "outputs": [
    {
     "data": {
      "text/html": [
       "<div>\n",
       "<style scoped>\n",
       "    .dataframe tbody tr th:only-of-type {\n",
       "        vertical-align: middle;\n",
       "    }\n",
       "\n",
       "    .dataframe tbody tr th {\n",
       "        vertical-align: top;\n",
       "    }\n",
       "\n",
       "    .dataframe thead th {\n",
       "        text-align: right;\n",
       "    }\n",
       "</style>\n",
       "<table border=\"1\" class=\"dataframe\">\n",
       "  <thead>\n",
       "    <tr style=\"text-align: right;\">\n",
       "      <th></th>\n",
       "      <th>Recency</th>\n",
       "      <th>Frequency</th>\n",
       "      <th>Monetary</th>\n",
       "      <th>Time</th>\n",
       "      <th>Class</th>\n",
       "    </tr>\n",
       "  </thead>\n",
       "  <tbody>\n",
       "    <tr>\n",
       "      <th>0</th>\n",
       "      <td>2</td>\n",
       "      <td>50</td>\n",
       "      <td>12500</td>\n",
       "      <td>98</td>\n",
       "      <td>1</td>\n",
       "    </tr>\n",
       "    <tr>\n",
       "      <th>1</th>\n",
       "      <td>0</td>\n",
       "      <td>13</td>\n",
       "      <td>3250</td>\n",
       "      <td>28</td>\n",
       "      <td>1</td>\n",
       "    </tr>\n",
       "    <tr>\n",
       "      <th>2</th>\n",
       "      <td>1</td>\n",
       "      <td>16</td>\n",
       "      <td>4000</td>\n",
       "      <td>35</td>\n",
       "      <td>1</td>\n",
       "    </tr>\n",
       "    <tr>\n",
       "      <th>3</th>\n",
       "      <td>2</td>\n",
       "      <td>20</td>\n",
       "      <td>5000</td>\n",
       "      <td>45</td>\n",
       "      <td>1</td>\n",
       "    </tr>\n",
       "    <tr>\n",
       "      <th>4</th>\n",
       "      <td>1</td>\n",
       "      <td>24</td>\n",
       "      <td>6000</td>\n",
       "      <td>77</td>\n",
       "      <td>0</td>\n",
       "    </tr>\n",
       "    <tr>\n",
       "      <th>...</th>\n",
       "      <td>...</td>\n",
       "      <td>...</td>\n",
       "      <td>...</td>\n",
       "      <td>...</td>\n",
       "      <td>...</td>\n",
       "    </tr>\n",
       "    <tr>\n",
       "      <th>743</th>\n",
       "      <td>23</td>\n",
       "      <td>2</td>\n",
       "      <td>500</td>\n",
       "      <td>38</td>\n",
       "      <td>0</td>\n",
       "    </tr>\n",
       "    <tr>\n",
       "      <th>744</th>\n",
       "      <td>21</td>\n",
       "      <td>2</td>\n",
       "      <td>500</td>\n",
       "      <td>52</td>\n",
       "      <td>0</td>\n",
       "    </tr>\n",
       "    <tr>\n",
       "      <th>745</th>\n",
       "      <td>23</td>\n",
       "      <td>3</td>\n",
       "      <td>750</td>\n",
       "      <td>62</td>\n",
       "      <td>0</td>\n",
       "    </tr>\n",
       "    <tr>\n",
       "      <th>746</th>\n",
       "      <td>39</td>\n",
       "      <td>1</td>\n",
       "      <td>250</td>\n",
       "      <td>39</td>\n",
       "      <td>0</td>\n",
       "    </tr>\n",
       "    <tr>\n",
       "      <th>747</th>\n",
       "      <td>72</td>\n",
       "      <td>1</td>\n",
       "      <td>250</td>\n",
       "      <td>72</td>\n",
       "      <td>0</td>\n",
       "    </tr>\n",
       "  </tbody>\n",
       "</table>\n",
       "<p>748 rows × 5 columns</p>\n",
       "</div>"
      ],
      "text/plain": [
       "     Recency  Frequency  Monetary  Time  Class\n",
       "0          2         50     12500    98      1\n",
       "1          0         13      3250    28      1\n",
       "2          1         16      4000    35      1\n",
       "3          2         20      5000    45      1\n",
       "4          1         24      6000    77      0\n",
       "..       ...        ...       ...   ...    ...\n",
       "743       23          2       500    38      0\n",
       "744       21          2       500    52      0\n",
       "745       23          3       750    62      0\n",
       "746       39          1       250    39      0\n",
       "747       72          1       250    72      0\n",
       "\n",
       "[748 rows x 5 columns]"
      ]
     },
     "execution_count": 2,
     "metadata": {},
     "output_type": "execute_result"
    }
   ],
   "source": [
    "df=pd.read_csv(\"blood.csv\")\n",
    "df"
   ]
  },
  {
   "cell_type": "code",
   "execution_count": 3,
   "id": "e0f70c33-27cb-4c6e-850f-15697a0dba41",
   "metadata": {},
   "outputs": [
    {
     "data": {
      "text/plain": [
       "0    570\n",
       "1    178\n",
       "Name: Class, dtype: int64"
      ]
     },
     "execution_count": 3,
     "metadata": {},
     "output_type": "execute_result"
    }
   ],
   "source": [
    "df['Class'].value_counts()"
   ]
  },
  {
   "cell_type": "markdown",
   "id": "36926d5f-66b0-4d50-9025-74dcecfb8e18",
   "metadata": {},
   "source": [
    "### Basic EDA part of dataset"
   ]
  },
  {
   "cell_type": "code",
   "execution_count": 4,
   "id": "971fff03-d26d-45c7-89b8-66699b2c7e4c",
   "metadata": {},
   "outputs": [
    {
     "data": {
      "text/html": [
       "<div>\n",
       "<style scoped>\n",
       "    .dataframe tbody tr th:only-of-type {\n",
       "        vertical-align: middle;\n",
       "    }\n",
       "\n",
       "    .dataframe tbody tr th {\n",
       "        vertical-align: top;\n",
       "    }\n",
       "\n",
       "    .dataframe thead th {\n",
       "        text-align: right;\n",
       "    }\n",
       "</style>\n",
       "<table border=\"1\" class=\"dataframe\">\n",
       "  <thead>\n",
       "    <tr style=\"text-align: right;\">\n",
       "      <th></th>\n",
       "      <th>Recency</th>\n",
       "      <th>Frequency</th>\n",
       "      <th>Monetary</th>\n",
       "      <th>Time</th>\n",
       "      <th>Class</th>\n",
       "    </tr>\n",
       "  </thead>\n",
       "  <tbody>\n",
       "    <tr>\n",
       "      <th>0</th>\n",
       "      <td>2</td>\n",
       "      <td>50</td>\n",
       "      <td>12500</td>\n",
       "      <td>98</td>\n",
       "      <td>1</td>\n",
       "    </tr>\n",
       "    <tr>\n",
       "      <th>1</th>\n",
       "      <td>0</td>\n",
       "      <td>13</td>\n",
       "      <td>3250</td>\n",
       "      <td>28</td>\n",
       "      <td>1</td>\n",
       "    </tr>\n",
       "    <tr>\n",
       "      <th>2</th>\n",
       "      <td>1</td>\n",
       "      <td>16</td>\n",
       "      <td>4000</td>\n",
       "      <td>35</td>\n",
       "      <td>1</td>\n",
       "    </tr>\n",
       "    <tr>\n",
       "      <th>3</th>\n",
       "      <td>2</td>\n",
       "      <td>20</td>\n",
       "      <td>5000</td>\n",
       "      <td>45</td>\n",
       "      <td>1</td>\n",
       "    </tr>\n",
       "    <tr>\n",
       "      <th>4</th>\n",
       "      <td>1</td>\n",
       "      <td>24</td>\n",
       "      <td>6000</td>\n",
       "      <td>77</td>\n",
       "      <td>0</td>\n",
       "    </tr>\n",
       "  </tbody>\n",
       "</table>\n",
       "</div>"
      ],
      "text/plain": [
       "   Recency  Frequency  Monetary  Time  Class\n",
       "0        2         50     12500    98      1\n",
       "1        0         13      3250    28      1\n",
       "2        1         16      4000    35      1\n",
       "3        2         20      5000    45      1\n",
       "4        1         24      6000    77      0"
      ]
     },
     "execution_count": 4,
     "metadata": {},
     "output_type": "execute_result"
    }
   ],
   "source": [
    "df.head()"
   ]
  },
  {
   "cell_type": "code",
   "execution_count": 5,
   "id": "99873f74-921f-4f4b-b7ba-ba4125aac5ed",
   "metadata": {},
   "outputs": [
    {
     "data": {
      "text/html": [
       "<div>\n",
       "<style scoped>\n",
       "    .dataframe tbody tr th:only-of-type {\n",
       "        vertical-align: middle;\n",
       "    }\n",
       "\n",
       "    .dataframe tbody tr th {\n",
       "        vertical-align: top;\n",
       "    }\n",
       "\n",
       "    .dataframe thead th {\n",
       "        text-align: right;\n",
       "    }\n",
       "</style>\n",
       "<table border=\"1\" class=\"dataframe\">\n",
       "  <thead>\n",
       "    <tr style=\"text-align: right;\">\n",
       "      <th></th>\n",
       "      <th>Recency</th>\n",
       "      <th>Frequency</th>\n",
       "      <th>Monetary</th>\n",
       "      <th>Time</th>\n",
       "      <th>Class</th>\n",
       "    </tr>\n",
       "  </thead>\n",
       "  <tbody>\n",
       "    <tr>\n",
       "      <th>743</th>\n",
       "      <td>23</td>\n",
       "      <td>2</td>\n",
       "      <td>500</td>\n",
       "      <td>38</td>\n",
       "      <td>0</td>\n",
       "    </tr>\n",
       "    <tr>\n",
       "      <th>744</th>\n",
       "      <td>21</td>\n",
       "      <td>2</td>\n",
       "      <td>500</td>\n",
       "      <td>52</td>\n",
       "      <td>0</td>\n",
       "    </tr>\n",
       "    <tr>\n",
       "      <th>745</th>\n",
       "      <td>23</td>\n",
       "      <td>3</td>\n",
       "      <td>750</td>\n",
       "      <td>62</td>\n",
       "      <td>0</td>\n",
       "    </tr>\n",
       "    <tr>\n",
       "      <th>746</th>\n",
       "      <td>39</td>\n",
       "      <td>1</td>\n",
       "      <td>250</td>\n",
       "      <td>39</td>\n",
       "      <td>0</td>\n",
       "    </tr>\n",
       "    <tr>\n",
       "      <th>747</th>\n",
       "      <td>72</td>\n",
       "      <td>1</td>\n",
       "      <td>250</td>\n",
       "      <td>72</td>\n",
       "      <td>0</td>\n",
       "    </tr>\n",
       "  </tbody>\n",
       "</table>\n",
       "</div>"
      ],
      "text/plain": [
       "     Recency  Frequency  Monetary  Time  Class\n",
       "743       23          2       500    38      0\n",
       "744       21          2       500    52      0\n",
       "745       23          3       750    62      0\n",
       "746       39          1       250    39      0\n",
       "747       72          1       250    72      0"
      ]
     },
     "execution_count": 5,
     "metadata": {},
     "output_type": "execute_result"
    }
   ],
   "source": [
    "df.tail()"
   ]
  },
  {
   "cell_type": "code",
   "execution_count": 6,
   "id": "409e8962-621e-4374-af3f-01e1b0685cb9",
   "metadata": {},
   "outputs": [
    {
     "data": {
      "text/plain": [
       "(748, 5)"
      ]
     },
     "execution_count": 6,
     "metadata": {},
     "output_type": "execute_result"
    }
   ],
   "source": [
    "df.shape"
   ]
  },
  {
   "cell_type": "code",
   "execution_count": 7,
   "id": "8451f084-c0de-4eca-b52e-5b6578e7ef03",
   "metadata": {},
   "outputs": [
    {
     "data": {
      "text/plain": [
       "3740"
      ]
     },
     "execution_count": 7,
     "metadata": {},
     "output_type": "execute_result"
    }
   ],
   "source": [
    "df.size"
   ]
  },
  {
   "cell_type": "code",
   "execution_count": 8,
   "id": "a108c262-a87e-448f-b362-6bf2bea845df",
   "metadata": {},
   "outputs": [
    {
     "name": "stdout",
     "output_type": "stream",
     "text": [
      "<class 'pandas.core.frame.DataFrame'>\n",
      "RangeIndex: 748 entries, 0 to 747\n",
      "Data columns (total 5 columns):\n",
      " #   Column     Non-Null Count  Dtype\n",
      "---  ------     --------------  -----\n",
      " 0   Recency    748 non-null    int64\n",
      " 1   Frequency  748 non-null    int64\n",
      " 2   Monetary   748 non-null    int64\n",
      " 3   Time       748 non-null    int64\n",
      " 4   Class      748 non-null    int64\n",
      "dtypes: int64(5)\n",
      "memory usage: 29.3 KB\n"
     ]
    }
   ],
   "source": [
    "df.info()"
   ]
  },
  {
   "cell_type": "code",
   "execution_count": 9,
   "id": "31b1155f-4410-4cd8-a0f2-515ac89b83ce",
   "metadata": {},
   "outputs": [
    {
     "data": {
      "text/html": [
       "<div>\n",
       "<style scoped>\n",
       "    .dataframe tbody tr th:only-of-type {\n",
       "        vertical-align: middle;\n",
       "    }\n",
       "\n",
       "    .dataframe tbody tr th {\n",
       "        vertical-align: top;\n",
       "    }\n",
       "\n",
       "    .dataframe thead th {\n",
       "        text-align: right;\n",
       "    }\n",
       "</style>\n",
       "<table border=\"1\" class=\"dataframe\">\n",
       "  <thead>\n",
       "    <tr style=\"text-align: right;\">\n",
       "      <th></th>\n",
       "      <th>Recency</th>\n",
       "      <th>Frequency</th>\n",
       "      <th>Monetary</th>\n",
       "      <th>Time</th>\n",
       "      <th>Class</th>\n",
       "    </tr>\n",
       "  </thead>\n",
       "  <tbody>\n",
       "    <tr>\n",
       "      <th>count</th>\n",
       "      <td>748.000000</td>\n",
       "      <td>748.000000</td>\n",
       "      <td>748.000000</td>\n",
       "      <td>748.000000</td>\n",
       "      <td>748.000000</td>\n",
       "    </tr>\n",
       "    <tr>\n",
       "      <th>mean</th>\n",
       "      <td>9.506684</td>\n",
       "      <td>5.514706</td>\n",
       "      <td>1378.676471</td>\n",
       "      <td>34.282086</td>\n",
       "      <td>0.237968</td>\n",
       "    </tr>\n",
       "    <tr>\n",
       "      <th>std</th>\n",
       "      <td>8.095396</td>\n",
       "      <td>5.839307</td>\n",
       "      <td>1459.826781</td>\n",
       "      <td>24.376714</td>\n",
       "      <td>0.426124</td>\n",
       "    </tr>\n",
       "    <tr>\n",
       "      <th>min</th>\n",
       "      <td>0.000000</td>\n",
       "      <td>1.000000</td>\n",
       "      <td>250.000000</td>\n",
       "      <td>2.000000</td>\n",
       "      <td>0.000000</td>\n",
       "    </tr>\n",
       "    <tr>\n",
       "      <th>25%</th>\n",
       "      <td>2.750000</td>\n",
       "      <td>2.000000</td>\n",
       "      <td>500.000000</td>\n",
       "      <td>16.000000</td>\n",
       "      <td>0.000000</td>\n",
       "    </tr>\n",
       "    <tr>\n",
       "      <th>50%</th>\n",
       "      <td>7.000000</td>\n",
       "      <td>4.000000</td>\n",
       "      <td>1000.000000</td>\n",
       "      <td>28.000000</td>\n",
       "      <td>0.000000</td>\n",
       "    </tr>\n",
       "    <tr>\n",
       "      <th>75%</th>\n",
       "      <td>14.000000</td>\n",
       "      <td>7.000000</td>\n",
       "      <td>1750.000000</td>\n",
       "      <td>50.000000</td>\n",
       "      <td>0.000000</td>\n",
       "    </tr>\n",
       "    <tr>\n",
       "      <th>max</th>\n",
       "      <td>74.000000</td>\n",
       "      <td>50.000000</td>\n",
       "      <td>12500.000000</td>\n",
       "      <td>98.000000</td>\n",
       "      <td>1.000000</td>\n",
       "    </tr>\n",
       "  </tbody>\n",
       "</table>\n",
       "</div>"
      ],
      "text/plain": [
       "          Recency   Frequency      Monetary        Time       Class\n",
       "count  748.000000  748.000000    748.000000  748.000000  748.000000\n",
       "mean     9.506684    5.514706   1378.676471   34.282086    0.237968\n",
       "std      8.095396    5.839307   1459.826781   24.376714    0.426124\n",
       "min      0.000000    1.000000    250.000000    2.000000    0.000000\n",
       "25%      2.750000    2.000000    500.000000   16.000000    0.000000\n",
       "50%      7.000000    4.000000   1000.000000   28.000000    0.000000\n",
       "75%     14.000000    7.000000   1750.000000   50.000000    0.000000\n",
       "max     74.000000   50.000000  12500.000000   98.000000    1.000000"
      ]
     },
     "execution_count": 9,
     "metadata": {},
     "output_type": "execute_result"
    }
   ],
   "source": [
    "df.describe()"
   ]
  },
  {
   "cell_type": "markdown",
   "id": "3f993662-f084-47db-8003-a69f284a6359",
   "metadata": {},
   "source": [
    "# handling outliers"
   ]
  },
  {
   "cell_type": "code",
   "execution_count": 10,
   "id": "4192442b-47e9-4b9e-a0fa-b646005a62c6",
   "metadata": {},
   "outputs": [
    {
     "name": "stderr",
     "output_type": "stream",
     "text": [
      "C:\\Users\\91797\\anaconda3\\lib\\site-packages\\seaborn\\_decorators.py:36: FutureWarning: Pass the following variable as a keyword arg: x. From version 0.12, the only valid positional argument will be `data`, and passing other arguments without an explicit keyword will result in an error or misinterpretation.\n",
      "  warnings.warn(\n"
     ]
    },
    {
     "data": {
      "text/plain": [
       "<AxesSubplot:xlabel='Recency'>"
      ]
     },
     "execution_count": 10,
     "metadata": {},
     "output_type": "execute_result"
    },
    {
     "data": {
      "image/png": "[encoded data removed]",
      "text/plain": [
       "<Figure size 432x288 with 1 Axes>"
      ]
     },
     "metadata": {
      "needs_background": "light"
     },
     "output_type": "display_data"
    }
   ],
   "source": [
    "sns.boxplot(df['Recency'])"
   ]
  },
  {
   "cell_type": "code",
   "execution_count": 11,
   "id": "95cc813d-b42d-47fd-9938-423ed2400971",
   "metadata": {},
   "outputs": [],
   "source": [
    "for cols in df.columns[:-1]:\n",
    "    if df[cols].dtype == object:\n",
    "        continue\n",
    "    else:\n",
    "        Q1 = df[cols].quantile(q=0.25)\n",
    "        Q3 = df[cols].quantile(q=0.75)\n",
    "        iqr = Q3 - Q1\n",
    "    \n",
    "        low = Q1 - 1.5*(Q3-Q1)\n",
    "        high = Q3 + 1.5*(Q3-Q1)\n",
    "        df.loc[(df[cols]<low) | (df[cols]>high),cols] = df[cols].median()"
   ]
  },
  {
   "cell_type": "code",
   "execution_count": 12,
   "id": "95574105-687d-4312-ad59-fb5fc647f91b",
   "metadata": {},
   "outputs": [
    {
     "name": "stderr",
     "output_type": "stream",
     "text": [
      "C:\\Users\\91797\\anaconda3\\lib\\site-packages\\seaborn\\_decorators.py:36: FutureWarning: Pass the following variable as a keyword arg: x. From version 0.12, the only valid positional argument will be `data`, and passing other arguments without an explicit keyword will result in an error or misinterpretation.\n",
      "  warnings.warn(\n"
     ]
    },
    {
     "data": {
      "text/plain": [
       "<AxesSubplot:xlabel='Recency'>"
      ]
     },
     "execution_count": 12,
     "metadata": {},
     "output_type": "execute_result"
    },
    {
     "data": {
      "image/png": "[encoded data removed]",
      "text/plain": [
       "<Figure size 432x288 with 1 Axes>"
      ]
     },
     "metadata": {
      "needs_background": "light"
     },
     "output_type": "display_data"
    }
   ],
   "source": [
    "sns.boxplot(df['Recency'])"
   ]
  },
  {
   "cell_type": "markdown",
   "id": "1cc8e294-e2cf-4e7e-8115-16ca81e9f6fc",
   "metadata": {},
   "source": [
    "### Data visulaization"
   ]
  },
  {
   "cell_type": "code",
   "execution_count": 13,
   "id": "5cbb7c2d-6a13-4cbf-a92e-44278503cb71",
   "metadata": {},
   "outputs": [
    {
     "data": {
      "text/plain": [
       "array([[<AxesSubplot:title={'center':'Recency'}>,\n",
       "        <AxesSubplot:title={'center':'Frequency'}>],\n",
       "       [<AxesSubplot:title={'center':'Monetary'}>,\n",
       "        <AxesSubplot:title={'center':'Time'}>],\n",
       "       [<AxesSubplot:title={'center':'Class'}>, <AxesSubplot:>]],\n",
       "      dtype=object)"
      ]
     },
     "execution_count": 13,
     "metadata": {},
     "output_type": "execute_result"
    },
    {
     "data": {
      "image/png": "[encoded data removed]",
      "text/plain": [
       "<Figure size 1008x1008 with 6 Axes>"
      ]
     },
     "metadata": {
      "needs_background": "light"
     },
     "output_type": "display_data"
    }
   ],
   "source": [
    "df.hist(figsize=(14,14))"
   ]
  },
  {
   "cell_type": "code",
   "execution_count": 14,
   "id": "47817472-7219-4d87-a94b-324aaae196e9",
   "metadata": {},
   "outputs": [
    {
     "data": {
      "text/plain": [
       "<AxesSubplot:xlabel='Class', ylabel='Recency'>"
      ]
     },
     "execution_count": 14,
     "metadata": {},
     "output_type": "execute_result"
    },
    {
     "data": {
      "image/png": "[encoded data removed]",
      "text/plain": [
       "<Figure size 432x288 with 1 Axes>"
      ]
     },
     "metadata": {
      "needs_background": "light"
     },
     "output_type": "display_data"
    }
   ],
   "source": [
    "sns.barplot(x=\"Class\",y=\"Recency\",data=df)"
   ]
  },
  {
   "cell_type": "code",
   "execution_count": 15,
   "id": "85875c9e-8e4b-4ea3-9c77-f6034e451cdd",
   "metadata": {},
   "outputs": [
    {
     "data": {
      "text/plain": [
       "<AxesSubplot:xlabel='Class', ylabel='Frequency'>"
      ]
     },
     "execution_count": 15,
     "metadata": {},
     "output_type": "execute_result"
    },
    {
     "data": {
      "image/png": "[encoded data removed]",
      "text/plain": [
       "<Figure size 432x288 with 1 Axes>"
      ]
     },
     "metadata": {
      "needs_background": "light"
     },
     "output_type": "display_data"
    }
   ],
   "source": [
    "sns.barplot(x=\"Class\", y=\"Frequency\", data =df)"
   ]
  },
  {
   "cell_type": "code",
   "execution_count": 16,
   "id": "8260be92-1ba3-4fb7-93d7-a1eb7b5ea856",
   "metadata": {},
   "outputs": [
    {
     "data": {
      "text/plain": [
       "<AxesSubplot:xlabel='Class', ylabel='Monetary'>"
      ]
     },
     "execution_count": 16,
     "metadata": {},
     "output_type": "execute_result"
    },
    {
     "data": {
      "image/png": "[encoded data removed]",
      "text/plain": [
       "<Figure size 432x288 with 1 Axes>"
      ]
     },
     "metadata": {
      "needs_background": "light"
     },
     "output_type": "display_data"
    }
   ],
   "source": [
    "sns.barplot(x=\"Class\", y=\"Monetary\",data=df)"
   ]
  },
  {
   "cell_type": "code",
   "execution_count": 17,
   "id": "08e811ab-c158-4d7f-b02b-5ea42b19d03a",
   "metadata": {},
   "outputs": [
    {
     "data": {
      "text/plain": [
       "<AxesSubplot:xlabel='Class', ylabel='Time'>"
      ]
     },
     "execution_count": 17,
     "metadata": {},
     "output_type": "execute_result"
    },
    {
     "data": {
      "image/png": "[encoded data removed]",
      "text/plain": [
       "<Figure size 432x288 with 1 Axes>"
      ]
     },
     "metadata": {
      "needs_background": "light"
     },
     "output_type": "display_data"
    }
   ],
   "source": [
    "sns.barplot(x=\"Class\",y=\"Time\", data =df)"
   ]
  },
  {
   "cell_type": "code",
   "execution_count": 18,
   "id": "647a29c8-76cd-4d40-8604-a7440c3064c5",
   "metadata": {},
   "outputs": [
    {
     "name": "stderr",
     "output_type": "stream",
     "text": [
      "C:\\Users\\91797\\anaconda3\\lib\\site-packages\\seaborn\\distributions.py:2619: FutureWarning: `distplot` is a deprecated function and will be removed in a future version. Please adapt your code to use either `displot` (a figure-level function with similar flexibility) or `histplot` (an axes-level function for histograms).\n",
      "  warnings.warn(msg, FutureWarning)\n"
     ]
    },
    {
     "data": {
      "image/png": "[encoded data removed]",
      "text/plain": [
       "<Figure size 432x288 with 1 Axes>"
      ]
     },
     "metadata": {
      "needs_background": "light"
     },
     "output_type": "display_data"
    }
   ],
   "source": [
    "sns.distplot(df[\"Recency\"]);"
   ]
  },
  {
   "cell_type": "code",
   "execution_count": 19,
   "id": "ba72a6e8-5879-4f13-b11a-43d2f6f3dcc1",
   "metadata": {},
   "outputs": [
    {
     "name": "stderr",
     "output_type": "stream",
     "text": [
      "C:\\Users\\91797\\anaconda3\\lib\\site-packages\\seaborn\\distributions.py:2619: FutureWarning: `distplot` is a deprecated function and will be removed in a future version. Please adapt your code to use either `displot` (a figure-level function with similar flexibility) or `histplot` (an axes-level function for histograms).\n",
      "  warnings.warn(msg, FutureWarning)\n"
     ]
    },
    {
     "data": {
      "image/png": "[encoded data removed]",
      "text/plain": [
       "<Figure size 432x288 with 1 Axes>"
      ]
     },
     "metadata": {
      "needs_background": "light"
     },
     "output_type": "display_data"
    }
   ],
   "source": [
    "sns.distplot(df[\"Class\"]);"
   ]
  },
  {
   "cell_type": "code",
   "execution_count": 20,
   "id": "085293e4-9a5f-496b-8f8a-5de92a2a4276",
   "metadata": {},
   "outputs": [
    {
     "name": "stderr",
     "output_type": "stream",
     "text": [
      "C:\\Users\\91797\\anaconda3\\lib\\site-packages\\seaborn\\distributions.py:2619: FutureWarning: `distplot` is a deprecated function and will be removed in a future version. Please adapt your code to use either `displot` (a figure-level function with similar flexibility) or `histplot` (an axes-level function for histograms).\n",
      "  warnings.warn(msg, FutureWarning)\n"
     ]
    },
    {
     "data": {
      "text/plain": [
       "<AxesSubplot:xlabel='Time', ylabel='Density'>"
      ]
     },
     "execution_count": 20,
     "metadata": {},
     "output_type": "execute_result"
    },
    {
     "data": {
      "image/png": "[encoded data removed]",
      "text/plain": [
       "<Figure size 432x288 with 1 Axes>"
      ]
     },
     "metadata": {
      "needs_background": "light"
     },
     "output_type": "display_data"
    }
   ],
   "source": [
    "sns.distplot(df[\"Time\"])"
   ]
  },
  {
   "cell_type": "code",
   "execution_count": 21,
   "id": "4e27ecbf-99aa-4414-bfe1-91436306a36f",
   "metadata": {},
   "outputs": [
    {
     "name": "stderr",
     "output_type": "stream",
     "text": [
      "C:\\Users\\91797\\anaconda3\\lib\\site-packages\\seaborn\\distributions.py:2619: FutureWarning: `distplot` is a deprecated function and will be removed in a future version. Please adapt your code to use either `displot` (a figure-level function with similar flexibility) or `histplot` (an axes-level function for histograms).\n",
      "  warnings.warn(msg, FutureWarning)\n"
     ]
    },
    {
     "data": {
      "image/png": "[encoded data removed]",
      "text/plain": [
       "<Figure size 432x288 with 1 Axes>"
      ]
     },
     "metadata": {
      "needs_background": "light"
     },
     "output_type": "display_data"
    }
   ],
   "source": [
    "sns.distplot(df[\"Frequency\"]);"
   ]
  },
  {
   "cell_type": "code",
   "execution_count": 22,
   "id": "eb127178-b790-4025-b6e9-c1c57eda3cf0",
   "metadata": {},
   "outputs": [
    {
     "name": "stderr",
     "output_type": "stream",
     "text": [
      "C:\\Users\\91797\\anaconda3\\lib\\site-packages\\seaborn\\distributions.py:2619: FutureWarning: `distplot` is a deprecated function and will be removed in a future version. Please adapt your code to use either `displot` (a figure-level function with similar flexibility) or `histplot` (an axes-level function for histograms).\n",
      "  warnings.warn(msg, FutureWarning)\n"
     ]
    },
    {
     "data": {
      "image/png": "[encoded data removed]",
      "text/plain": [
       "<Figure size 432x288 with 1 Axes>"
      ]
     },
     "metadata": {
      "needs_background": "light"
     },
     "output_type": "display_data"
    }
   ],
   "source": [
    "sns.distplot(df[\"Monetary\"]);"
   ]
  },
  {
   "cell_type": "code",
   "execution_count": 23,
   "id": "a522afcf-66aa-4bd4-b971-2434ce277a80",
   "metadata": {},
   "outputs": [
    {
     "data": {
      "text/html": [
       "<div>\n",
       "<style scoped>\n",
       "    .dataframe tbody tr th:only-of-type {\n",
       "        vertical-align: middle;\n",
       "    }\n",
       "\n",
       "    .dataframe tbody tr th {\n",
       "        vertical-align: top;\n",
       "    }\n",
       "\n",
       "    .dataframe thead th {\n",
       "        text-align: right;\n",
       "    }\n",
       "</style>\n",
       "<table border=\"1\" class=\"dataframe\">\n",
       "  <thead>\n",
       "    <tr style=\"text-align: right;\">\n",
       "      <th></th>\n",
       "      <th>Recency</th>\n",
       "      <th>Frequency</th>\n",
       "      <th>Monetary</th>\n",
       "      <th>Time</th>\n",
       "      <th>Class</th>\n",
       "    </tr>\n",
       "  </thead>\n",
       "  <tbody>\n",
       "    <tr>\n",
       "      <th>Recency</th>\n",
       "      <td>1.000000</td>\n",
       "      <td>-0.178905</td>\n",
       "      <td>-0.178905</td>\n",
       "      <td>0.134370</td>\n",
       "      <td>-0.292424</td>\n",
       "    </tr>\n",
       "    <tr>\n",
       "      <th>Frequency</th>\n",
       "      <td>-0.178905</td>\n",
       "      <td>1.000000</td>\n",
       "      <td>1.000000</td>\n",
       "      <td>0.532752</td>\n",
       "      <td>0.164290</td>\n",
       "    </tr>\n",
       "    <tr>\n",
       "      <th>Monetary</th>\n",
       "      <td>-0.178905</td>\n",
       "      <td>1.000000</td>\n",
       "      <td>1.000000</td>\n",
       "      <td>0.532752</td>\n",
       "      <td>0.164290</td>\n",
       "    </tr>\n",
       "    <tr>\n",
       "      <th>Time</th>\n",
       "      <td>0.134370</td>\n",
       "      <td>0.532752</td>\n",
       "      <td>0.532752</td>\n",
       "      <td>1.000000</td>\n",
       "      <td>-0.035854</td>\n",
       "    </tr>\n",
       "    <tr>\n",
       "      <th>Class</th>\n",
       "      <td>-0.292424</td>\n",
       "      <td>0.164290</td>\n",
       "      <td>0.164290</td>\n",
       "      <td>-0.035854</td>\n",
       "      <td>1.000000</td>\n",
       "    </tr>\n",
       "  </tbody>\n",
       "</table>\n",
       "</div>"
      ],
      "text/plain": [
       "            Recency  Frequency  Monetary      Time     Class\n",
       "Recency    1.000000  -0.178905 -0.178905  0.134370 -0.292424\n",
       "Frequency -0.178905   1.000000  1.000000  0.532752  0.164290\n",
       "Monetary  -0.178905   1.000000  1.000000  0.532752  0.164290\n",
       "Time       0.134370   0.532752  0.532752  1.000000 -0.035854\n",
       "Class     -0.292424   0.164290  0.164290 -0.035854  1.000000"
      ]
     },
     "execution_count": 23,
     "metadata": {},
     "output_type": "execute_result"
    }
   ],
   "source": [
    "df.corr()"
   ]
  },
  {
   "cell_type": "markdown",
   "id": "fcaa14ed-9c67-4738-97e4-cca6addf4770",
   "metadata": {},
   "source": [
    "### Corelation"
   ]
  },
  {
   "cell_type": "code",
   "execution_count": 24,
   "id": "8f350cec-a063-4564-996c-9125d4d8a647",
   "metadata": {},
   "outputs": [
    {
     "data": {
      "text/plain": [
       "<AxesSubplot:>"
      ]
     },
     "execution_count": 24,
     "metadata": {},
     "output_type": "execute_result"
    },
    {
     "data": {
      "image/png": "[encoded data removed]",
      "text/plain": [
       "<Figure size 864x360 with 2 Axes>"
      ]
     },
     "metadata": {
      "needs_background": "light"
     },
     "output_type": "display_data"
    }
   ],
   "source": [
    "cor=np.round(df.corr(),2)\n",
    "plt.figure(figsize=(12,5))\n",
    "sns.heatmap(cor, annot =True)"
   ]
  },
  {
   "cell_type": "markdown",
   "id": "baf628e8-1b61-4ea8-9eca-d08402ccc1e5",
   "metadata": {},
   "source": [
    "### Probplot"
   ]
  },
  {
   "cell_type": "code",
   "execution_count": 25,
   "id": "b3ccf30d-811d-47b0-b20a-598a025665aa",
   "metadata": {},
   "outputs": [],
   "source": [
    "from scipy.stats import probplot\n"
   ]
  },
  {
   "cell_type": "code",
   "execution_count": 26,
   "id": "0ebdb904-3e1f-4488-9709-386e97ee0bde",
   "metadata": {},
   "outputs": [
    {
     "data": {
      "image/png": "[encoded data removed]",
      "text/plain": [
       "<Figure size 432x288 with 1 Axes>"
      ]
     },
     "metadata": {
      "needs_background": "light"
     },
     "output_type": "display_data"
    }
   ],
   "source": [
    "probplot(df[\"Recency\"],plot=plt);"
   ]
  },
  {
   "cell_type": "code",
   "execution_count": 27,
   "id": "1496b6af-1ac6-4909-a70d-ec7ef0528aef",
   "metadata": {},
   "outputs": [
    {
     "data": {
      "image/png": "[encoded data removed]",
      "text/plain": [
       "<Figure size 432x288 with 1 Axes>"
      ]
     },
     "metadata": {
      "needs_background": "light"
     },
     "output_type": "display_data"
    }
   ],
   "source": [
    "probplot(df[\"Frequency\"],plot=plt);"
   ]
  },
  {
   "cell_type": "code",
   "execution_count": 28,
   "id": "997120eb-7c14-492e-8174-b2ca703613f2",
   "metadata": {},
   "outputs": [
    {
     "data": {
      "image/png": "[encoded data removed]",
      "text/plain": [
       "<Figure size 432x288 with 1 Axes>"
      ]
     },
     "metadata": {
      "needs_background": "light"
     },
     "output_type": "display_data"
    }
   ],
   "source": [
    "probplot(df[\"Monetary\"],plot=plt);"
   ]
  },
  {
   "cell_type": "code",
   "execution_count": 29,
   "id": "3c3610c5-04ae-4dd1-bcca-df38804dc6ee",
   "metadata": {},
   "outputs": [
    {
     "data": {
      "image/png": "[encoded data removed]",
      "text/plain": [
       "<Figure size 432x288 with 1 Axes>"
      ]
     },
     "metadata": {
      "needs_background": "light"
     },
     "output_type": "display_data"
    }
   ],
   "source": [
    "probplot(df[\"Time\"],plot=plt);"
   ]
  },
  {
   "cell_type": "code",
   "execution_count": 30,
   "id": "fa44b29d-13ee-4afb-a028-0ad73c36b815",
   "metadata": {},
   "outputs": [
    {
     "data": {
      "image/png": "[encoded data removed]",
      "text/plain": [
       "<Figure size 432x288 with 1 Axes>"
      ]
     },
     "metadata": {
      "needs_background": "light"
     },
     "output_type": "display_data"
    }
   ],
   "source": [
    "probplot(df[\"Class\"],plot=plt);"
   ]
  },
  {
   "cell_type": "code",
   "execution_count": 31,
   "id": "4abd088c-8b38-46df-992a-081c5fc8350c",
   "metadata": {},
   "outputs": [],
   "source": [
    "from sklearn.preprocessing import StandardScaler"
   ]
  },
  {
   "cell_type": "code",
   "execution_count": 32,
   "id": "195af8ba-587b-4019-8e37-cf4f919c68ca",
   "metadata": {},
   "outputs": [],
   "source": [
    "sd=StandardScaler()"
   ]
  },
  {
   "cell_type": "code",
   "execution_count": 33,
   "id": "6ca4915f-f1e1-4d5d-8e13-3c65e5646d1c",
   "metadata": {},
   "outputs": [],
   "source": [
    "df1=df.drop(['Class'],axis=1)"
   ]
  },
  {
   "cell_type": "code",
   "execution_count": 34,
   "id": "6aa1d339-a53c-4928-bd57-78167d4f203b",
   "metadata": {},
   "outputs": [],
   "source": [
    "std_df=sd.fit_transform(df1)"
   ]
  },
  {
   "cell_type": "code",
   "execution_count": 35,
   "id": "1a33deef-94f1-4949-ba83-75a850309878",
   "metadata": {},
   "outputs": [],
   "source": [
    "df2=pd.DataFrame(std_df)"
   ]
  },
  {
   "cell_type": "code",
   "execution_count": 36,
   "id": "3684e877-1171-45d0-a750-7ab554801186",
   "metadata": {},
   "outputs": [],
   "source": [
    "a=df1.columns"
   ]
  },
  {
   "cell_type": "code",
   "execution_count": 37,
   "id": "35fc5e3b-4f8d-4994-b0dd-6d23aca356e4",
   "metadata": {},
   "outputs": [],
   "source": [
    "df2.columns=a"
   ]
  },
  {
   "cell_type": "code",
   "execution_count": 38,
   "id": "ee7646c1-c8b5-45b1-8c05-61a846796691",
   "metadata": {},
   "outputs": [],
   "source": [
    "final_df=pd.concat([df2,df['Class']],axis=1)"
   ]
  },
  {
   "cell_type": "markdown",
   "id": "469928dd-44dd-4cce-ae8c-c58fa0224b25",
   "metadata": {},
   "source": [
    "### Train Test And Split"
   ]
  },
  {
   "cell_type": "code",
   "execution_count": 39,
   "id": "3430d1e1-247a-49d4-8c54-45044649266e",
   "metadata": {},
   "outputs": [],
   "source": [
    "from sklearn.model_selection import train_test_split"
   ]
  },
  {
   "cell_type": "code",
   "execution_count": null,
   "id": "e405f863-53a6-4a99-a117-1e0f30a0b514",
   "metadata": {},
   "outputs": [],
   "source": []
  },
  {
   "cell_type": "code",
   "execution_count": 40,
   "id": "66af4a9e-7205-4a65-8c2b-33dfd0702523",
   "metadata": {},
   "outputs": [
    {
     "data": {
      "text/html": [
       "<div>\n",
       "<style scoped>\n",
       "    .dataframe tbody tr th:only-of-type {\n",
       "        vertical-align: middle;\n",
       "    }\n",
       "\n",
       "    .dataframe tbody tr th {\n",
       "        vertical-align: top;\n",
       "    }\n",
       "\n",
       "    .dataframe thead th {\n",
       "        text-align: right;\n",
       "    }\n",
       "</style>\n",
       "<table border=\"1\" class=\"dataframe\">\n",
       "  <thead>\n",
       "    <tr style=\"text-align: right;\">\n",
       "      <th></th>\n",
       "      <th>Recency</th>\n",
       "      <th>Frequency</th>\n",
       "      <th>Monetary</th>\n",
       "      <th>Time</th>\n",
       "      <th>Class</th>\n",
       "    </tr>\n",
       "  </thead>\n",
       "  <tbody>\n",
       "    <tr>\n",
       "      <th>0</th>\n",
       "      <td>2</td>\n",
       "      <td>4</td>\n",
       "      <td>1000</td>\n",
       "      <td>98</td>\n",
       "      <td>1</td>\n",
       "    </tr>\n",
       "    <tr>\n",
       "      <th>1</th>\n",
       "      <td>0</td>\n",
       "      <td>13</td>\n",
       "      <td>3250</td>\n",
       "      <td>28</td>\n",
       "      <td>1</td>\n",
       "    </tr>\n",
       "    <tr>\n",
       "      <th>2</th>\n",
       "      <td>1</td>\n",
       "      <td>4</td>\n",
       "      <td>1000</td>\n",
       "      <td>35</td>\n",
       "      <td>1</td>\n",
       "    </tr>\n",
       "    <tr>\n",
       "      <th>3</th>\n",
       "      <td>2</td>\n",
       "      <td>4</td>\n",
       "      <td>1000</td>\n",
       "      <td>45</td>\n",
       "      <td>1</td>\n",
       "    </tr>\n",
       "    <tr>\n",
       "      <th>4</th>\n",
       "      <td>1</td>\n",
       "      <td>4</td>\n",
       "      <td>1000</td>\n",
       "      <td>77</td>\n",
       "      <td>0</td>\n",
       "    </tr>\n",
       "    <tr>\n",
       "      <th>...</th>\n",
       "      <td>...</td>\n",
       "      <td>...</td>\n",
       "      <td>...</td>\n",
       "      <td>...</td>\n",
       "      <td>...</td>\n",
       "    </tr>\n",
       "    <tr>\n",
       "      <th>743</th>\n",
       "      <td>23</td>\n",
       "      <td>2</td>\n",
       "      <td>500</td>\n",
       "      <td>38</td>\n",
       "      <td>0</td>\n",
       "    </tr>\n",
       "    <tr>\n",
       "      <th>744</th>\n",
       "      <td>21</td>\n",
       "      <td>2</td>\n",
       "      <td>500</td>\n",
       "      <td>52</td>\n",
       "      <td>0</td>\n",
       "    </tr>\n",
       "    <tr>\n",
       "      <th>745</th>\n",
       "      <td>23</td>\n",
       "      <td>3</td>\n",
       "      <td>750</td>\n",
       "      <td>62</td>\n",
       "      <td>0</td>\n",
       "    </tr>\n",
       "    <tr>\n",
       "      <th>746</th>\n",
       "      <td>7</td>\n",
       "      <td>1</td>\n",
       "      <td>250</td>\n",
       "      <td>39</td>\n",
       "      <td>0</td>\n",
       "    </tr>\n",
       "    <tr>\n",
       "      <th>747</th>\n",
       "      <td>7</td>\n",
       "      <td>1</td>\n",
       "      <td>250</td>\n",
       "      <td>72</td>\n",
       "      <td>0</td>\n",
       "    </tr>\n",
       "  </tbody>\n",
       "</table>\n",
       "<p>748 rows × 5 columns</p>\n",
       "</div>"
      ],
      "text/plain": [
       "     Recency  Frequency  Monetary  Time  Class\n",
       "0          2          4      1000    98      1\n",
       "1          0         13      3250    28      1\n",
       "2          1          4      1000    35      1\n",
       "3          2          4      1000    45      1\n",
       "4          1          4      1000    77      0\n",
       "..       ...        ...       ...   ...    ...\n",
       "743       23          2       500    38      0\n",
       "744       21          2       500    52      0\n",
       "745       23          3       750    62      0\n",
       "746        7          1       250    39      0\n",
       "747        7          1       250    72      0\n",
       "\n",
       "[748 rows x 5 columns]"
      ]
     },
     "execution_count": 40,
     "metadata": {},
     "output_type": "execute_result"
    }
   ],
   "source": [
    "df"
   ]
  },
  {
   "cell_type": "code",
   "execution_count": 41,
   "id": "016e825d-feca-4981-a534-5397023802aa",
   "metadata": {},
   "outputs": [],
   "source": [
    "# Standarization"
   ]
  },
  {
   "cell_type": "code",
   "execution_count": 42,
   "id": "e5d1a756-a7f2-410b-9bdb-2a9931d16e94",
   "metadata": {},
   "outputs": [
    {
     "ename": "SyntaxError",
     "evalue": "invalid syntax (3225815199.py, line 1)",
     "output_type": "error",
     "traceback": [
      "\u001b[1;36m  Input \u001b[1;32mIn [42]\u001b[1;36m\u001b[0m\n\u001b[1;33m    from sklearn.prepro\u001b[0m\n\u001b[1;37m                       ^\u001b[0m\n\u001b[1;31mSyntaxError\u001b[0m\u001b[1;31m:\u001b[0m invalid syntax\n"
     ]
    }
   ],
   "source": [
    "from sklearn.prepro"
   ]
  },
  {
   "cell_type": "code",
   "execution_count": null,
   "id": "69aee88b-70c0-42e2-a320-142a2adca67d",
   "metadata": {},
   "outputs": [],
   "source": []
  },
  {
   "cell_type": "code",
   "execution_count": null,
   "id": "3c5c5493-5c01-4ec9-a297-f9b3155c2ab8",
   "metadata": {},
   "outputs": [],
   "source": []
  },
  {
   "cell_type": "code",
   "execution_count": null,
   "id": "150451ad-9a47-4e53-b388-b294f9d7a1cb",
   "metadata": {},
   "outputs": [],
   "source": []
  },
  {
   "cell_type": "code",
   "execution_count": null,
   "id": "950191c5-7320-41cf-a02b-74c040984106",
   "metadata": {},
   "outputs": [],
   "source": [
    "# count class in target\n",
    "\n",
    "# Stratified"
   ]
  },
  {
   "cell_type": "code",
   "execution_count": null,
   "id": "cc533a4e-a073-4acd-a34f-64105acd36e7",
   "metadata": {},
   "outputs": [],
   "source": [
    "X_stratified= final_df.iloc[:,:-1]\n",
    "y_stratified= final_df.iloc[:,[-1]]"
   ]
  },
  {
   "cell_type": "code",
   "execution_count": null,
   "id": "125a9891-4ff5-4919-9d84-4b26b38beb02",
   "metadata": {},
   "outputs": [],
   "source": [
    "# count class in target\n",
    "X_train,X_test,y_train,y_test= train_test_split(X_stratified,y_stratified,train_size=0.8,stratify=y_stratified,random_state=0)"
   ]
  },
  {
   "cell_type": "code",
   "execution_count": null,
   "id": "0f491318-cab5-4618-994e-1edc412975dd",
   "metadata": {},
   "outputs": [],
   "source": []
  },
  {
   "cell_type": "markdown",
   "id": "c8e15b28-8bea-42f7-8d78-50d7fb031010",
   "metadata": {},
   "source": [
    "### Implamanting the Algorithms."
   ]
  },
  {
   "cell_type": "markdown",
   "id": "474b7018-c124-41c8-a5e3-4f4825b76bba",
   "metadata": {},
   "source": [
    "### Logestic Regression"
   ]
  },
  {
   "cell_type": "code",
   "execution_count": null,
   "id": "9580a395-6b60-4f79-a250-6ef20a8329db",
   "metadata": {},
   "outputs": [],
   "source": [
    "from sklearn.linear_model import LogisticRegression"
   ]
  },
  {
   "cell_type": "code",
   "execution_count": null,
   "id": "e06ad133-6136-4c70-869e-52bf469d8818",
   "metadata": {},
   "outputs": [],
   "source": [
    "logestic=LogisticRegression()"
   ]
  },
  {
   "cell_type": "code",
   "execution_count": null,
   "id": "f4675aa7-1a6d-4af9-afa3-be95ac2029b1",
   "metadata": {},
   "outputs": [],
   "source": [
    "model_lo=logestic.fit(X_train,y_train)\n",
    "predict_lo = logestic.predict(X_test)"
   ]
  },
  {
   "cell_type": "markdown",
   "id": "8ce637e7-dfd3-40dc-934d-e10fe6c5322f",
   "metadata": {},
   "source": [
    "#### Checking for Accuracy of Logestic Regression"
   ]
  },
  {
   "cell_type": "code",
   "execution_count": null,
   "id": "62f6fbd6-3b47-44f9-a018-89595af8cafa",
   "metadata": {},
   "outputs": [],
   "source": [
    "from sklearn.metrics import accuracy_score, confusion_matrix,classification_report"
   ]
  },
  {
   "cell_type": "code",
   "execution_count": null,
   "id": "ebaf35da-0413-4569-bfa9-7edd4cb2cb6a",
   "metadata": {},
   "outputs": [],
   "source": [
    "accuracy_score(predict_lo,y_test)"
   ]
  },
  {
   "cell_type": "code",
   "execution_count": null,
   "id": "1f79ee90-41de-4734-a349-19c4bbc756fe",
   "metadata": {},
   "outputs": [],
   "source": [
    "logestic.score(X_test,y_test)"
   ]
  },
  {
   "cell_type": "code",
   "execution_count": null,
   "id": "7255d9ba-7cec-4f12-9897-247246704125",
   "metadata": {},
   "outputs": [],
   "source": [
    "logestic.score(X_train,y_train)"
   ]
  },
  {
   "cell_type": "code",
   "execution_count": null,
   "id": "d76fd09e-30a6-408f-a516-421591fe3462",
   "metadata": {},
   "outputs": [],
   "source": [
    "confusion_matrix(predict_lo,y_test)"
   ]
  },
  {
   "cell_type": "code",
   "execution_count": null,
   "id": "b3e23a58-5251-433f-a8c6-e6372b1afaaf",
   "metadata": {},
   "outputs": [],
   "source": [
    "print(classification_report(predict_lo, y_test))"
   ]
  },
  {
   "cell_type": "markdown",
   "id": "44407ffe-8705-4879-a012-9929dc0fc08f",
   "metadata": {},
   "source": [
    "### Checking for number of 1's and 0's"
   ]
  },
  {
   "cell_type": "code",
   "execution_count": null,
   "id": "e7c32073-af05-4609-b0c2-e9393ebc9475",
   "metadata": {},
   "outputs": [],
   "source": [
    "df[\"Class\"].value_counts()\n"
   ]
  },
  {
   "cell_type": "markdown",
   "id": "969f39d1-1b52-4fb3-8e55-fb6d20e376f3",
   "metadata": {},
   "source": [
    "### Decision Tree"
   ]
  },
  {
   "cell_type": "code",
   "execution_count": null,
   "id": "860232f4-7c5e-4dc2-9f39-772e10b95f9a",
   "metadata": {},
   "outputs": [],
   "source": [
    "from sklearn.tree import DecisionTreeClassifier\n",
    "dt=DecisionTreeClassifier()\n",
    "model_dt =dt.fit(X_train,y_train)\n",
    "predict_dt=dt.predict(X_test)"
   ]
  },
  {
   "cell_type": "markdown",
   "id": "8ecf5d0c-db0d-4a29-bc2e-565d805064f8",
   "metadata": {},
   "source": [
    "#### checking for accuracy"
   ]
  },
  {
   "cell_type": "code",
   "execution_count": null,
   "id": "eb705f4a-38c4-4173-b72b-ff021c4130cb",
   "metadata": {},
   "outputs": [],
   "source": [
    "accuracy_score(predict_dt, y_test)"
   ]
  },
  {
   "cell_type": "code",
   "execution_count": null,
   "id": "007c87d1-5537-4a36-a44c-fbed290adec2",
   "metadata": {},
   "outputs": [],
   "source": [
    "confusion_matrix(predict_dt, y_test)"
   ]
  },
  {
   "cell_type": "code",
   "execution_count": null,
   "id": "d342f6bc-a3c5-48d0-a1d4-0cf37ae2cfcd",
   "metadata": {},
   "outputs": [],
   "source": [
    "print(classification_report(predict_dt, y_test))"
   ]
  },
  {
   "cell_type": "markdown",
   "id": "dc732c5d-2858-4f54-a6a1-1a845d468f91",
   "metadata": {},
   "source": [
    "### Random Forest"
   ]
  },
  {
   "cell_type": "code",
   "execution_count": null,
   "id": "b4aeec10-6a6f-4a5c-adce-ee3fe335ab04",
   "metadata": {},
   "outputs": [],
   "source": [
    "from sklearn.ensemble import RandomForestClassifier\n",
    "\n",
    "rf = RandomForestClassifier()\n",
    "model_rf = rf.fit(X_train,y_train)\n",
    "\n",
    "predict_rf = rf.predict(X_test)"
   ]
  },
  {
   "cell_type": "markdown",
   "id": "96748fc0-16d1-4c90-a5bd-6b8e1f96e25e",
   "metadata": {},
   "source": [
    "#### Checking for accuracy"
   ]
  },
  {
   "cell_type": "code",
   "execution_count": null,
   "id": "039c0e53-8e24-46d0-94a0-f5762150e1fe",
   "metadata": {},
   "outputs": [],
   "source": [
    "accuracy_score(predict_rf, y_test)"
   ]
  },
  {
   "cell_type": "code",
   "execution_count": null,
   "id": "af7c8599-af10-47d5-9d51-7b77167b7c23",
   "metadata": {},
   "outputs": [],
   "source": [
    "confusion_matrix(predict_rf, y_test)"
   ]
  },
  {
   "cell_type": "code",
   "execution_count": null,
   "id": "754ecfe8-f24d-469f-b3ca-c00c5109be3a",
   "metadata": {},
   "outputs": [],
   "source": [
    "print(classification_report(predict_rf, y_test))"
   ]
  },
  {
   "cell_type": "markdown",
   "id": "e29b37ee-dab2-491a-bc85-b40dc5363b91",
   "metadata": {},
   "source": [
    "### AdaBoos Classifier"
   ]
  },
  {
   "cell_type": "code",
   "execution_count": null,
   "id": "6c4ac3a4-84ea-4b89-bb85-d8f289472919",
   "metadata": {},
   "outputs": [],
   "source": [
    "from sklearn.ensemble import AdaBoostClassifier\n",
    "\n",
    "clf = AdaBoostClassifier()\n",
    "model_clf = clf.fit(X_train,y_train)\n",
    "\n",
    "predict_clf = clf.predict(X_test)"
   ]
  },
  {
   "cell_type": "markdown",
   "id": "b641a246-7510-4f7e-af9e-a259624ffa3a",
   "metadata": {},
   "source": [
    "### Checking for accuracy"
   ]
  },
  {
   "cell_type": "code",
   "execution_count": null,
   "id": "24a72635-f9f5-431f-9431-178b4146046e",
   "metadata": {},
   "outputs": [],
   "source": [
    "accuracy_score(predict_clf, y_test)"
   ]
  },
  {
   "cell_type": "code",
   "execution_count": null,
   "id": "015eb9b0-abce-41cc-b9ef-56f9ffd24cd4",
   "metadata": {},
   "outputs": [],
   "source": [
    "confusion_matrix(predict_clf, y_test)"
   ]
  },
  {
   "cell_type": "code",
   "execution_count": null,
   "id": "b7128e07-0002-4e63-b3bc-0693918cff8c",
   "metadata": {},
   "outputs": [],
   "source": [
    "print(classification_report(predict_clf, y_test))"
   ]
  },
  {
   "cell_type": "markdown",
   "id": "9866f9f4-67e3-4671-92bc-3e589cb68f87",
   "metadata": {},
   "source": [
    "### GradientBoostingClassifier"
   ]
  },
  {
   "cell_type": "code",
   "execution_count": null,
   "id": "a8d0fea6-034a-4e4f-b2ea-4320e97c6310",
   "metadata": {},
   "outputs": [],
   "source": [
    "from sklearn.ensemble import GradientBoostingClassifier\n",
    "\n",
    "gbc = GradientBoostingClassifier()\n",
    "model_gbc = gbc.fit(X_train,y_train)\n",
    "\n",
    "\n",
    "\n",
    "predict_gbc = gbc.predict(X_test)"
   ]
  },
  {
   "cell_type": "markdown",
   "id": "7a266066-520c-4f29-bc9f-7b9916530ec2",
   "metadata": {},
   "source": [
    "#### Checking for accuracy"
   ]
  },
  {
   "cell_type": "code",
   "execution_count": null,
   "id": "e82e56af-f716-4f3f-84f6-26a6cfd65773",
   "metadata": {},
   "outputs": [],
   "source": [
    "accuracy_score(predict_gbc, y_test)"
   ]
  },
  {
   "cell_type": "code",
   "execution_count": null,
   "id": "87443412-893c-49e7-a647-63024fa2871c",
   "metadata": {},
   "outputs": [],
   "source": [
    "confusion_matrix(predict_gbc, y_test)"
   ]
  },
  {
   "cell_type": "code",
   "execution_count": null,
   "id": "a3715b3e-187b-44fe-b6a9-7c88452e346f",
   "metadata": {},
   "outputs": [],
   "source": [
    "print(classification_report(predict_gbc, y_test))"
   ]
  },
  {
   "cell_type": "markdown",
   "id": "9658a3ba-8bdc-404d-8e3e-a5aaa6bd687f",
   "metadata": {},
   "source": [
    "### HistGradientBoostingClassifier"
   ]
  },
  {
   "cell_type": "code",
   "execution_count": null,
   "id": "70f79a5e-0935-420d-850e-53472f048173",
   "metadata": {},
   "outputs": [],
   "source": [
    "from sklearn.ensemble import HistGradientBoostingClassifier\n",
    "\n",
    "hgbc = HistGradientBoostingClassifier()\n",
    "model_hgbc = hgbc.fit(X_train,y_train)\n",
    "\n",
    "predict_hgbc = hgbc.predict(X_test)"
   ]
  },
  {
   "cell_type": "markdown",
   "id": "c4069f8e-5edd-484e-9732-a8c92607ead3",
   "metadata": {},
   "source": [
    "#### Checking for accuracy"
   ]
  },
  {
   "cell_type": "code",
   "execution_count": null,
   "id": "d7a91213-c719-4421-bd3c-8eedbf409a7e",
   "metadata": {},
   "outputs": [],
   "source": [
    "accuracy_score(predict_hgbc, y_test)"
   ]
  },
  {
   "cell_type": "code",
   "execution_count": null,
   "id": "b9eb9e76-f91a-4005-9e8f-614326e770c7",
   "metadata": {},
   "outputs": [],
   "source": [
    "confusion_matrix(predict_hgbc, y_test)"
   ]
  },
  {
   "cell_type": "code",
   "execution_count": null,
   "id": "4cca64d0-14cc-46fd-84db-fa2db5ab1b6b",
   "metadata": {},
   "outputs": [],
   "source": [
    "print(classification_report(predict_hgbc, y_test))"
   ]
  },
  {
   "cell_type": "markdown",
   "id": "1af46af4-4920-475c-9f9b-4a1bb485ecaa",
   "metadata": {},
   "source": []
  },
  {
   "cell_type": "code",
   "execution_count": null,
   "id": "f7f28d0d-93ec-4a26-aeba-0e8e41769c1e",
   "metadata": {},
   "outputs": [],
   "source": []
  },
  {
   "cell_type": "code",
   "execution_count": null,
   "id": "58d5842f-8b89-49ef-b3ce-726f62ca2485",
   "metadata": {},
   "outputs": [],
   "source": []
  }
 ],
 "metadata": {
  "kernelspec": {
   "display_name": "Python 3 (ipykernel)",
   "language": "python",
   "name": "python3"
  },
  "language_info": {
   "codemirror_mode": {
    "name": "ipython",
    "version": 3
   },
   "file_extension": ".py",
   "mimetype": "text/x-python",
   "name": "python",
   "nbconvert_exporter": "python",
   "pygments_lexer": "ipython3",
   "version": "3.9.12"
  }
 },
 "nbformat": 4,
 "nbformat_minor": 5
}
